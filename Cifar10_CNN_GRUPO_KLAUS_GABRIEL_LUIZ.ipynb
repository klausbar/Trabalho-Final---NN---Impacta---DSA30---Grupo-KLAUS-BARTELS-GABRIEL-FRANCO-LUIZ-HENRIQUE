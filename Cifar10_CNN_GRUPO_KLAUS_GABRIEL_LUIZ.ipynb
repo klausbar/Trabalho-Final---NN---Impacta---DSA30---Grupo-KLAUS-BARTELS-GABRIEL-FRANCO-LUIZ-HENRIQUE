{
  "nbformat": 4,
  "nbformat_minor": 0,
  "metadata": {
    "colab": {
      "provenance": []
    },
    "kernelspec": {
      "name": "python3",
      "display_name": "Python 3"
    },
    "language_info": {
      "name": "python"
    }
  },
  "cells": [
    {
      "cell_type": "markdown",
      "source": [
        "Componentes do Grupo:\n",
        "\n",
        "Gabriel Franco - 2403394\n",
        "\n",
        "Klaus Dieter Bernhard V Bartels - 2402752\n",
        "\n",
        "Luiz Henrique Juvenal - 2401275"
      ],
      "metadata": {
        "id": "yI6redS_aAGn"
      }
    },
    {
      "cell_type": "markdown",
      "source": [
        "- Instalando e Importando Bibliotecas ."
      ],
      "metadata": {
        "id": "x7E6BstUrssd"
      }
    },
    {
      "cell_type": "code",
      "source": [
        "pip install tensorflow keras"
      ],
      "metadata": {
        "colab": {
          "base_uri": "https://localhost:8080/"
        },
        "id": "EHIksWqvrxVC",
        "outputId": "52fc8b30-bf9b-419b-af4c-7dc1af27d870"
      },
      "execution_count": null,
      "outputs": [
        {
          "output_type": "stream",
          "name": "stdout",
          "text": [
            "Requirement already satisfied: tensorflow in /usr/local/lib/python3.11/dist-packages (2.18.0)\n",
            "Requirement already satisfied: keras in /usr/local/lib/python3.11/dist-packages (3.8.0)\n",
            "Requirement already satisfied: absl-py>=1.0.0 in /usr/local/lib/python3.11/dist-packages (from tensorflow) (1.4.0)\n",
            "Requirement already satisfied: astunparse>=1.6.0 in /usr/local/lib/python3.11/dist-packages (from tensorflow) (1.6.3)\n",
            "Requirement already satisfied: flatbuffers>=24.3.25 in /usr/local/lib/python3.11/dist-packages (from tensorflow) (25.2.10)\n",
            "Requirement already satisfied: gast!=0.5.0,!=0.5.1,!=0.5.2,>=0.2.1 in /usr/local/lib/python3.11/dist-packages (from tensorflow) (0.6.0)\n",
            "Requirement already satisfied: google-pasta>=0.1.1 in /usr/local/lib/python3.11/dist-packages (from tensorflow) (0.2.0)\n",
            "Requirement already satisfied: libclang>=13.0.0 in /usr/local/lib/python3.11/dist-packages (from tensorflow) (18.1.1)\n",
            "Requirement already satisfied: opt-einsum>=2.3.2 in /usr/local/lib/python3.11/dist-packages (from tensorflow) (3.4.0)\n",
            "Requirement already satisfied: packaging in /usr/local/lib/python3.11/dist-packages (from tensorflow) (24.2)\n",
            "Requirement already satisfied: protobuf!=4.21.0,!=4.21.1,!=4.21.2,!=4.21.3,!=4.21.4,!=4.21.5,<6.0.0dev,>=3.20.3 in /usr/local/lib/python3.11/dist-packages (from tensorflow) (5.29.4)\n",
            "Requirement already satisfied: requests<3,>=2.21.0 in /usr/local/lib/python3.11/dist-packages (from tensorflow) (2.32.3)\n",
            "Requirement already satisfied: setuptools in /usr/local/lib/python3.11/dist-packages (from tensorflow) (75.2.0)\n",
            "Requirement already satisfied: six>=1.12.0 in /usr/local/lib/python3.11/dist-packages (from tensorflow) (1.17.0)\n",
            "Requirement already satisfied: termcolor>=1.1.0 in /usr/local/lib/python3.11/dist-packages (from tensorflow) (3.1.0)\n",
            "Requirement already satisfied: typing-extensions>=3.6.6 in /usr/local/lib/python3.11/dist-packages (from tensorflow) (4.13.2)\n",
            "Requirement already satisfied: wrapt>=1.11.0 in /usr/local/lib/python3.11/dist-packages (from tensorflow) (1.17.2)\n",
            "Requirement already satisfied: grpcio<2.0,>=1.24.3 in /usr/local/lib/python3.11/dist-packages (from tensorflow) (1.71.0)\n",
            "Requirement already satisfied: tensorboard<2.19,>=2.18 in /usr/local/lib/python3.11/dist-packages (from tensorflow) (2.18.0)\n",
            "Requirement already satisfied: numpy<2.1.0,>=1.26.0 in /usr/local/lib/python3.11/dist-packages (from tensorflow) (2.0.2)\n",
            "Requirement already satisfied: h5py>=3.11.0 in /usr/local/lib/python3.11/dist-packages (from tensorflow) (3.13.0)\n",
            "Requirement already satisfied: ml-dtypes<0.5.0,>=0.4.0 in /usr/local/lib/python3.11/dist-packages (from tensorflow) (0.4.1)\n",
            "Requirement already satisfied: tensorflow-io-gcs-filesystem>=0.23.1 in /usr/local/lib/python3.11/dist-packages (from tensorflow) (0.37.1)\n",
            "Requirement already satisfied: rich in /usr/local/lib/python3.11/dist-packages (from keras) (13.9.4)\n",
            "Requirement already satisfied: namex in /usr/local/lib/python3.11/dist-packages (from keras) (0.0.9)\n",
            "Requirement already satisfied: optree in /usr/local/lib/python3.11/dist-packages (from keras) (0.15.0)\n",
            "Requirement already satisfied: wheel<1.0,>=0.23.0 in /usr/local/lib/python3.11/dist-packages (from astunparse>=1.6.0->tensorflow) (0.45.1)\n",
            "Requirement already satisfied: charset-normalizer<4,>=2 in /usr/local/lib/python3.11/dist-packages (from requests<3,>=2.21.0->tensorflow) (3.4.2)\n",
            "Requirement already satisfied: idna<4,>=2.5 in /usr/local/lib/python3.11/dist-packages (from requests<3,>=2.21.0->tensorflow) (3.10)\n",
            "Requirement already satisfied: urllib3<3,>=1.21.1 in /usr/local/lib/python3.11/dist-packages (from requests<3,>=2.21.0->tensorflow) (2.4.0)\n",
            "Requirement already satisfied: certifi>=2017.4.17 in /usr/local/lib/python3.11/dist-packages (from requests<3,>=2.21.0->tensorflow) (2025.4.26)\n",
            "Requirement already satisfied: markdown>=2.6.8 in /usr/local/lib/python3.11/dist-packages (from tensorboard<2.19,>=2.18->tensorflow) (3.8)\n",
            "Requirement already satisfied: tensorboard-data-server<0.8.0,>=0.7.0 in /usr/local/lib/python3.11/dist-packages (from tensorboard<2.19,>=2.18->tensorflow) (0.7.2)\n",
            "Requirement already satisfied: werkzeug>=1.0.1 in /usr/local/lib/python3.11/dist-packages (from tensorboard<2.19,>=2.18->tensorflow) (3.1.3)\n",
            "Requirement already satisfied: markdown-it-py>=2.2.0 in /usr/local/lib/python3.11/dist-packages (from rich->keras) (3.0.0)\n",
            "Requirement already satisfied: pygments<3.0.0,>=2.13.0 in /usr/local/lib/python3.11/dist-packages (from rich->keras) (2.19.1)\n",
            "Requirement already satisfied: mdurl~=0.1 in /usr/local/lib/python3.11/dist-packages (from markdown-it-py>=2.2.0->rich->keras) (0.1.2)\n",
            "Requirement already satisfied: MarkupSafe>=2.1.1 in /usr/local/lib/python3.11/dist-packages (from werkzeug>=1.0.1->tensorboard<2.19,>=2.18->tensorflow) (3.0.2)\n"
          ]
        }
      ]
    },
    {
      "cell_type": "markdown",
      "source": [
        "🔹 Importamos TensorFlow e Keras para modelagem da CNN, além de matplotlib para visualizar dados."
      ],
      "metadata": {
        "id": "7b8Sjfeyf7r8"
      }
    },
    {
      "cell_type": "code",
      "source": [
        "import tensorflow as tf\n",
        "from tensorflow import keras\n",
        "from tensorflow.keras import layers\n",
        "import matplotlib.pyplot as plt"
      ],
      "metadata": {
        "id": "1QfDznzksKUD"
      },
      "execution_count": null,
      "outputs": []
    },
    {
      "cell_type": "code",
      "execution_count": null,
      "metadata": {
        "id": "HtFVipR2-rOu"
      },
      "outputs": [],
      "source": [
        "import numpy as np\n",
        "from keras.models import Sequential\n",
        "from keras.layers import Dense\n",
        "from keras.layers import Flatten\n",
        "from keras.layers import Dropout\n",
        "from keras.optimizers import SGD\n",
        "from keras.layers import Conv2D, MaxPooling2D\n",
        "from keras.utils import to_categorical\n",
        "# from keras.datasets import cifar10 #(50000, 32X32)"
      ]
    },
    {
      "cell_type": "markdown",
      "source": [
        "Passo 2: Carregamos o Dataset CIFAR-10 .Esse Dataset é um conjunto de imagens de 32x32 pixels divididas em 10 categorias. Normalizamos os pixels para facilitar o treinamento.  normalizamos os valores dos pixels (/255) das imagens para ficarem entre 0 e 1. Isso melhora o desempenho da rede, evitando que valores altos prejudiquem o aprendizado. Já quando usamos o One-hot encoding , serve como coversão... por exemplo, se a imagem for de um \"carro\" (classe 1), a conversão transforma isso em: [0, 1, 0, 0, 0, 0, 0, 0, 0, 0] . Isso facilita o treinamento em classificação multiclasse.\n",
        "\n",
        "\n"
      ],
      "metadata": {
        "id": "LVcCe3Qgn5Pu"
      }
    },
    {
      "cell_type": "code",
      "source": [
        "# Carregar dataset CIFAR-10\n",
        "(x_train, y_train), (x_test, y_test) = keras.datasets.cifar10.load_data()\n",
        "\n",
        "# Normalizar os dados (entre 0 e 1)\n",
        "x_train, x_test = x_train / 255.0, x_test / 255.0\n",
        "\n",
        "# Converter rótulos para formato categórico (one-hot encoding)\n",
        "y_train = keras.utils.to_categorical(y_train, 10)\n",
        "y_test = keras.utils.to_categorical(y_test, 10)"
      ],
      "metadata": {
        "colab": {
          "base_uri": "https://localhost:8080/"
        },
        "id": "4ypXoolOuG_G",
        "outputId": "7e33b69e-49c2-4f79-8d5b-0762f2eac7df"
      },
      "execution_count": null,
      "outputs": [
        {
          "output_type": "stream",
          "name": "stdout",
          "text": [
            "Downloading data from https://www.cs.toronto.edu/~kriz/cifar-10-python.tar.gz\n",
            "\u001b[1m170498071/170498071\u001b[0m \u001b[32m━━━━━━━━━━━━━━━━━━━━\u001b[0m\u001b[37m\u001b[0m \u001b[1m2s\u001b[0m 0us/step\n"
          ]
        }
      ]
    },
    {
      "cell_type": "markdown",
      "source": [
        "Passo 3: Criamos a Arquitetura da Rede Neural\n",
        "Aqui usamos uma CNN com três camadas convolucionais seguidas de camadas densas. Usamos as três camadas convolucionais com BatchNormalization e Dropout para estabilizar o aprendizado.\n",
        "Ou seja , Criamos um modelo sequencial, onde cada camada é adicionada uma após a outra.\n",
        "\n",
        "Na primeira camada:\n",
        "- Criamos uma camada convolucional com 64 filtros de tamanho 3x3.\n",
        "- ReLU é a função de ativação usada para evitar valores negativos.\n",
        "- Padding='same' mantém o tamanho da imagem igual após a convolução.\n",
        "- input_shape=(32, 32, 3) define que nossa entrada tem 32x32 pixels e 3 canais de cor (RGB).\n",
        "- Batch Normalization estabiliza o treinamento normalizando as ativações.Isso acelera o aprendizado e melhora a generalização.\n",
        "- MaxPooling reduz o tamanho da imagem pela metade, selecionando apenas os valores mais importantes.\n",
        "- Dropout desativa 20% dos neurônios aleatoriamente para evitar overfitting.\n",
        "\n",
        "Na segunda camada:\n",
        "- Criamos mais uma camada convolucional com 128 filtros.\n",
        "- Batch Normalization para estabilizar.\n",
        "- MaxPooling reduz mais a imagem.\n",
        "- Dropout aumenta para 30%, já que a rede está ficando maior.\n",
        "\n",
        "Na terceira camada:\n",
        "- Agora temos 256 filtros, permitindo capturar padrões mais complexos.\n",
        "- O Dropout sobe para 40%, reforçando a prevenção contra overfitting.\n",
        "\n",
        "\n",
        "Na sequencia fazemos \"Flatten\" , ou seja, transforma nossa matriz em um vetor unidimensional, essencial para conectar com camadas densas.\n",
        "\n",
        "\n",
        "Em seguida na camada totalmente conectada...\n",
        "- 512 neurônios formam uma camada totalmente conectada.\n",
        "- ReLU é usado para evitar valores negativos.\n",
        "- Dropout alto (50%) para evitar memorizar os dados.\n",
        "\n",
        "\n",
        "Camada de Saída para 10 Classes:\n",
        "- A última camada tem 10 neurônios, correspondendo às 10 classes do CIFAR-10.\n",
        "- A ativação softmax converte valores em probabilidades (exemplo: carro = 92% de chance).\n",
        "\n",
        "\n",
        "\n"
      ],
      "metadata": {
        "id": "mbMga7ltueWC"
      }
    },
    {
      "cell_type": "code",
      "source": [
        "model = keras.Sequential([\n",
        "    # Primeira camada convolucional\n",
        "    layers.Conv2D(64, (3,3), activation='relu', padding='same', input_shape=(32, 32, 3)),\n",
        "    layers.BatchNormalization(),\n",
        "    layers.MaxPooling2D((2,2)),\n",
        "    layers.Dropout(0.2),\n",
        "\n",
        "    # Segunda camada convolucional\n",
        "    layers.Conv2D(128, (3,3), activation='relu', padding='same'),\n",
        "    layers.BatchNormalization(),\n",
        "    layers.MaxPooling2D((2,2)),\n",
        "    layers.Dropout(0.3),\n",
        "\n",
        "    # Terceira camada convolucional\n",
        "    layers.Conv2D(256, (3,3), activation='relu', padding='same'),\n",
        "    layers.BatchNormalization(),\n",
        "    layers.MaxPooling2D((2,2)),\n",
        "    layers.Dropout(0.4),\n",
        "\n",
        "    # Flatten para converter para um vetor unidimensional\n",
        "    layers.Flatten(),\n",
        "\n",
        "    # Camada totalmente conectada\n",
        "    layers.Dense(512, activation='relu'),\n",
        "    layers.BatchNormalization(),\n",
        "    layers.Dropout(0.5),\n",
        "\n",
        "    # Camada de saída para 10 classes\n",
        "    layers.Dense(10, activation='softmax')\n",
        "])"
      ],
      "metadata": {
        "colab": {
          "base_uri": "https://localhost:8080/"
        },
        "id": "PM8zue8nuq02",
        "outputId": "2df71e87-5b5f-4363-f143-1e8fc3674a14"
      },
      "execution_count": null,
      "outputs": [
        {
          "output_type": "stream",
          "name": "stderr",
          "text": [
            "/usr/local/lib/python3.11/dist-packages/keras/src/layers/convolutional/base_conv.py:107: UserWarning: Do not pass an `input_shape`/`input_dim` argument to a layer. When using Sequential models, prefer using an `Input(shape)` object as the first layer in the model instead.\n",
            "  super().__init__(activity_regularizer=activity_regularizer, **kwargs)\n"
          ]
        }
      ]
    },
    {
      "cell_type": "code",
      "source": [
        "# n_classes = 10"
      ],
      "metadata": {
        "id": "SoS8MX0OAZp0"
      },
      "execution_count": null,
      "outputs": []
    },
    {
      "cell_type": "markdown",
      "source": [
        "Passo 4: Compilar e Treinar o Modelo.\n",
        "Definimos o otimizador, a função de perda e métricas de avaliação, onde:   \n",
        "\n",
        "Na compilação\n",
        "- Adam é um otimizador avançado que ajusta automaticamente a taxa de aprendizado.\n",
        "- A função de perda categorical_crossentropy é usada para classificação multiclasse.\n",
        "- A métrica accuracy mede a acurácia do modelo.\n",
        "\n",
        "No treinamento do Modelo:\n",
        "- Treinamos por 30 épocas (cada época é um ciclo completo pelos dados).\n",
        "- Batch size de 64 regula quantas imagens são processadas de cada vez.\n",
        "- Validation data permite ver o desempenho no conjunto de teste.\n",
        "\n"
      ],
      "metadata": {
        "id": "LYR0bhL_u3U0"
      }
    },
    {
      "cell_type": "code",
      "source": [
        "# Compilar o modelo\n",
        "model.compile(optimizer=keras.optimizers.Adam(learning_rate=0.0005),\n",
        "              loss='categorical_crossentropy',\n",
        "              metrics=['accuracy'])\n",
        "\n",
        "# Treinamento do modelo\n",
        "history = model.fit(x_train, y_train, epochs=30, batch_size=64, validation_data=(x_test, y_test))"
      ],
      "metadata": {
        "colab": {
          "base_uri": "https://localhost:8080/"
        },
        "id": "IAxghhgavAAw",
        "outputId": "4ff087f6-f6ca-4c08-83a1-a3d05ba055dd"
      },
      "execution_count": null,
      "outputs": [
        {
          "output_type": "stream",
          "name": "stdout",
          "text": [
            "Epoch 1/30\n",
            "\u001b[1m782/782\u001b[0m \u001b[32m━━━━━━━━━━━━━━━━━━━━\u001b[0m\u001b[37m\u001b[0m \u001b[1m474s\u001b[0m 601ms/step - accuracy: 0.3701 - loss: 2.1156 - val_accuracy: 0.5570 - val_loss: 1.3271\n",
            "Epoch 2/30\n",
            "\u001b[1m782/782\u001b[0m \u001b[32m━━━━━━━━━━━━━━━━━━━━\u001b[0m\u001b[37m\u001b[0m \u001b[1m514s\u001b[0m 617ms/step - accuracy: 0.5771 - loss: 1.2065 - val_accuracy: 0.6610 - val_loss: 0.9731\n",
            "Epoch 3/30\n",
            "\u001b[1m782/782\u001b[0m \u001b[32m━━━━━━━━━━━━━━━━━━━━\u001b[0m\u001b[37m\u001b[0m \u001b[1m491s\u001b[0m 603ms/step - accuracy: 0.6442 - loss: 1.0031 - val_accuracy: 0.6838 - val_loss: 0.8970\n",
            "Epoch 4/30\n",
            "\u001b[1m782/782\u001b[0m \u001b[32m━━━━━━━━━━━━━━━━━━━━\u001b[0m\u001b[37m\u001b[0m \u001b[1m507s\u001b[0m 611ms/step - accuracy: 0.6885 - loss: 0.8875 - val_accuracy: 0.7328 - val_loss: 0.7563\n",
            "Epoch 5/30\n",
            "\u001b[1m782/782\u001b[0m \u001b[32m━━━━━━━━━━━━━━━━━━━━\u001b[0m\u001b[37m\u001b[0m \u001b[1m497s\u001b[0m 604ms/step - accuracy: 0.7184 - loss: 0.8009 - val_accuracy: 0.7532 - val_loss: 0.7152\n",
            "Epoch 6/30\n",
            "\u001b[1m782/782\u001b[0m \u001b[32m━━━━━━━━━━━━━━━━━━━━\u001b[0m\u001b[37m\u001b[0m \u001b[1m508s\u001b[0m 612ms/step - accuracy: 0.7373 - loss: 0.7385 - val_accuracy: 0.7419 - val_loss: 0.7364\n",
            "Epoch 7/30\n",
            "\u001b[1m782/782\u001b[0m \u001b[32m━━━━━━━━━━━━━━━━━━━━\u001b[0m\u001b[37m\u001b[0m \u001b[1m518s\u001b[0m 633ms/step - accuracy: 0.7577 - loss: 0.6865 - val_accuracy: 0.7323 - val_loss: 0.7795\n",
            "Epoch 8/30\n",
            "\u001b[1m782/782\u001b[0m \u001b[32m━━━━━━━━━━━━━━━━━━━━\u001b[0m\u001b[37m\u001b[0m \u001b[1m481s\u001b[0m 607ms/step - accuracy: 0.7741 - loss: 0.6416 - val_accuracy: 0.7740 - val_loss: 0.6737\n",
            "Epoch 9/30\n",
            "\u001b[1m782/782\u001b[0m \u001b[32m━━━━━━━━━━━━━━━━━━━━\u001b[0m\u001b[37m\u001b[0m \u001b[1m529s\u001b[0m 641ms/step - accuracy: 0.7873 - loss: 0.6056 - val_accuracy: 0.7602 - val_loss: 0.7086\n",
            "Epoch 10/30\n",
            "\u001b[1m782/782\u001b[0m \u001b[32m━━━━━━━━━━━━━━━━━━━━\u001b[0m\u001b[37m\u001b[0m \u001b[1m467s\u001b[0m 597ms/step - accuracy: 0.7946 - loss: 0.5797 - val_accuracy: 0.7611 - val_loss: 0.7220\n",
            "Epoch 11/30\n",
            "\u001b[1m782/782\u001b[0m \u001b[32m━━━━━━━━━━━━━━━━━━━━\u001b[0m\u001b[37m\u001b[0m \u001b[1m502s\u001b[0m 598ms/step - accuracy: 0.8093 - loss: 0.5393 - val_accuracy: 0.7484 - val_loss: 0.7405\n",
            "Epoch 12/30\n",
            "\u001b[1m782/782\u001b[0m \u001b[32m━━━━━━━━━━━━━━━━━━━━\u001b[0m\u001b[37m\u001b[0m \u001b[1m520s\u001b[0m 620ms/step - accuracy: 0.8220 - loss: 0.5038 - val_accuracy: 0.7661 - val_loss: 0.6969\n",
            "Epoch 13/30\n",
            "\u001b[1m782/782\u001b[0m \u001b[32m━━━━━━━━━━━━━━━━━━━━\u001b[0m\u001b[37m\u001b[0m \u001b[1m465s\u001b[0m 595ms/step - accuracy: 0.8282 - loss: 0.4927 - val_accuracy: 0.8007 - val_loss: 0.5914\n",
            "Epoch 14/30\n",
            "\u001b[1m782/782\u001b[0m \u001b[32m━━━━━━━━━━━━━━━━━━━━\u001b[0m\u001b[37m\u001b[0m \u001b[1m504s\u001b[0m 597ms/step - accuracy: 0.8369 - loss: 0.4648 - val_accuracy: 0.8084 - val_loss: 0.5657\n",
            "Epoch 15/30\n",
            "\u001b[1m782/782\u001b[0m \u001b[32m━━━━━━━━━━━━━━━━━━━━\u001b[0m\u001b[37m\u001b[0m \u001b[1m502s\u001b[0m 598ms/step - accuracy: 0.8428 - loss: 0.4447 - val_accuracy: 0.8097 - val_loss: 0.5738\n",
            "Epoch 16/30\n",
            "\u001b[1m782/782\u001b[0m \u001b[32m━━━━━━━━━━━━━━━━━━━━\u001b[0m\u001b[37m\u001b[0m \u001b[1m465s\u001b[0m 595ms/step - accuracy: 0.8368 - loss: 0.4586 - val_accuracy: 0.8010 - val_loss: 0.5946\n",
            "Epoch 17/30\n",
            "\u001b[1m782/782\u001b[0m \u001b[32m━━━━━━━━━━━━━━━━━━━━\u001b[0m\u001b[37m\u001b[0m \u001b[1m509s\u001b[0m 604ms/step - accuracy: 0.8594 - loss: 0.4017 - val_accuracy: 0.8165 - val_loss: 0.5507\n",
            "Epoch 18/30\n",
            "\u001b[1m782/782\u001b[0m \u001b[32m━━━━━━━━━━━━━━━━━━━━\u001b[0m\u001b[37m\u001b[0m \u001b[1m498s\u001b[0m 599ms/step - accuracy: 0.8625 - loss: 0.3902 - val_accuracy: 0.7456 - val_loss: 0.8120\n",
            "Epoch 19/30\n",
            "\u001b[1m782/782\u001b[0m \u001b[32m━━━━━━━━━━━━━━━━━━━━\u001b[0m\u001b[37m\u001b[0m \u001b[1m465s\u001b[0m 595ms/step - accuracy: 0.8623 - loss: 0.3871 - val_accuracy: 0.8038 - val_loss: 0.5885\n",
            "Epoch 20/30\n",
            "\u001b[1m782/782\u001b[0m \u001b[32m━━━━━━━━━━━━━━━━━━━━\u001b[0m\u001b[37m\u001b[0m \u001b[1m503s\u001b[0m 596ms/step - accuracy: 0.8680 - loss: 0.3746 - val_accuracy: 0.8135 - val_loss: 0.5687\n",
            "Epoch 21/30\n",
            "\u001b[1m782/782\u001b[0m \u001b[32m━━━━━━━━━━━━━━━━━━━━\u001b[0m\u001b[37m\u001b[0m \u001b[1m473s\u001b[0m 605ms/step - accuracy: 0.8749 - loss: 0.3523 - val_accuracy: 0.8313 - val_loss: 0.5182\n",
            "Epoch 22/30\n",
            "\u001b[1m782/782\u001b[0m \u001b[32m━━━━━━━━━━━━━━━━━━━━\u001b[0m\u001b[37m\u001b[0m \u001b[1m497s\u001b[0m 599ms/step - accuracy: 0.8784 - loss: 0.3466 - val_accuracy: 0.8058 - val_loss: 0.6027\n",
            "Epoch 23/30\n",
            "\u001b[1m782/782\u001b[0m \u001b[32m━━━━━━━━━━━━━━━━━━━━\u001b[0m\u001b[37m\u001b[0m \u001b[1m466s\u001b[0m 596ms/step - accuracy: 0.8801 - loss: 0.3347 - val_accuracy: 0.8276 - val_loss: 0.5202\n",
            "Epoch 24/30\n",
            "\u001b[1m782/782\u001b[0m \u001b[32m━━━━━━━━━━━━━━━━━━━━\u001b[0m\u001b[37m\u001b[0m \u001b[1m503s\u001b[0m 597ms/step - accuracy: 0.8850 - loss: 0.3207 - val_accuracy: 0.8224 - val_loss: 0.5436\n",
            "Epoch 25/30\n",
            "\u001b[1m782/782\u001b[0m \u001b[32m━━━━━━━━━━━━━━━━━━━━\u001b[0m\u001b[37m\u001b[0m \u001b[1m466s\u001b[0m 596ms/step - accuracy: 0.8895 - loss: 0.3147 - val_accuracy: 0.7940 - val_loss: 0.6608\n",
            "Epoch 26/30\n",
            "\u001b[1m782/782\u001b[0m \u001b[32m━━━━━━━━━━━━━━━━━━━━\u001b[0m\u001b[37m\u001b[0m \u001b[1m498s\u001b[0m 592ms/step - accuracy: 0.8913 - loss: 0.3065 - val_accuracy: 0.8055 - val_loss: 0.6171\n",
            "Epoch 27/30\n",
            "\u001b[1m782/782\u001b[0m \u001b[32m━━━━━━━━━━━━━━━━━━━━\u001b[0m\u001b[37m\u001b[0m \u001b[1m506s\u001b[0m 597ms/step - accuracy: 0.8939 - loss: 0.2988 - val_accuracy: 0.8343 - val_loss: 0.5128\n",
            "Epoch 28/30\n",
            "\u001b[1m782/782\u001b[0m \u001b[32m━━━━━━━━━━━━━━━━━━━━\u001b[0m\u001b[37m\u001b[0m \u001b[1m491s\u001b[0m 628ms/step - accuracy: 0.8955 - loss: 0.2952 - val_accuracy: 0.8261 - val_loss: 0.5510\n",
            "Epoch 29/30\n",
            "\u001b[1m782/782\u001b[0m \u001b[32m━━━━━━━━━━━━━━━━━━━━\u001b[0m\u001b[37m\u001b[0m \u001b[1m479s\u001b[0m 599ms/step - accuracy: 0.8974 - loss: 0.2857 - val_accuracy: 0.8343 - val_loss: 0.5258\n",
            "Epoch 30/30\n",
            "\u001b[1m782/782\u001b[0m \u001b[32m━━━━━━━━━━━━━━━━━━━━\u001b[0m\u001b[37m\u001b[0m \u001b[1m497s\u001b[0m 593ms/step - accuracy: 0.8975 - loss: 0.2828 - val_accuracy: 0.8353 - val_loss: 0.5407\n"
          ]
        }
      ]
    },
    {
      "cell_type": "markdown",
      "source": [
        "Passo 5: Avaliação do Modelo , onde após o treinamento, podemos testar a acurácia:\n",
        "\n",
        "- Após o treinamento, medimos a acurácia final.\n",
        "- Se o modelo estiver superajustado, a acurácia do teste será bem menor que a do treino.\n"
      ],
      "metadata": {
        "id": "SevSxM7LIuZ7"
      }
    },
    {
      "cell_type": "code",
      "source": [
        "test_loss, test_acc = model.evaluate(x_test, y_test)\n",
        "print(f'Acurácia no conjunto de teste: {test_acc:.2f}')"
      ],
      "metadata": {
        "colab": {
          "base_uri": "https://localhost:8080/"
        },
        "id": "cskvtVZkIwyx",
        "outputId": "7c4682cd-584a-434e-9636-980fd853e6ef"
      },
      "execution_count": null,
      "outputs": [
        {
          "output_type": "stream",
          "name": "stdout",
          "text": [
            "\u001b[1m313/313\u001b[0m \u001b[32m━━━━━━━━━━━━━━━━━━━━\u001b[0m\u001b[37m\u001b[0m \u001b[1m22s\u001b[0m 72ms/step - accuracy: 0.8370 - loss: 0.5425\n",
            "Acurácia no conjunto de teste: 0.84\n"
          ]
        }
      ]
    },
    {
      "cell_type": "markdown",
      "source": [
        "Resultados\n",
        "Após os ajustes, conseguimos 84% de acurácia!\n",
        "Isso foi possível graças a:\n",
        "- Batch Normalization para estabilizar o aprendizado.\n",
        "- Dropout alto para evitar overfitting.\n",
        "- Camadas profundas para capturar detalhes mais complexos.\n",
        "- Otimização com Adam para um treinamento mais eficiente.\n"
      ],
      "metadata": {
        "id": "1_0b1-dhPzLw"
      }
    },
    {
      "cell_type": "code",
      "source": [
        "fig = plt.figure()\n",
        "for i in range(5):\n",
        "    a = fig.add_subplot(1, 5, i + 1)\n",
        "    img_num = np.random.randint(x_train.shape[0])\n",
        "    image = x_train[i]\n",
        "    id = y_train[i]\n",
        "    plt.imshow(image)\n",
        "fig.set_size_inches(10,10)\n",
        "plt.show()"
      ],
      "metadata": {
        "colab": {
          "base_uri": "https://localhost:8080/",
          "height": 197
        },
        "id": "Tt0A9oK9_WMk",
        "outputId": "1f0ca671-9694-4501-e74f-805e75543262"
      },
      "execution_count": null,
      "outputs": [
        {
          "output_type": "display_data",
          "data": {
            "text/plain": [
              "<Figure size 1000x1000 with 5 Axes>"
            ],
            "image/png": "[encoded data removed]"
          },
          "metadata": {}
        }
      ]
    },
    {
      "cell_type": "code",
      "source": [
        "y_test"
      ],
      "metadata": {
        "colab": {
          "base_uri": "https://localhost:8080/"
        },
        "id": "qH8JZJbyB0BX",
        "outputId": "5f5fca64-deb6-4d04-a7fa-b35ff431dc48"
      },
      "execution_count": null,
      "outputs": [
        {
          "data": {
            "text/plain": [
              "array([[0., 0., 0., ..., 0., 0., 0.],\n",
              "       [0., 0., 0., ..., 0., 1., 0.],\n",
              "       [0., 0., 0., ..., 0., 1., 0.],\n",
              "       ...,\n",
              "       [0., 0., 0., ..., 0., 0., 0.],\n",
              "       [0., 1., 0., ..., 0., 0., 0.],\n",
              "       [0., 0., 0., ..., 1., 0., 0.]])"
            ]
          },
          "execution_count": 10,
          "metadata": {},
          "output_type": "execute_result"
        }
      ]
    }
  ]
}